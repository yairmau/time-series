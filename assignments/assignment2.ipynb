{
 "cells": [
  {
   "cell_type": "markdown",
   "metadata": {},
   "source": [
    "## assignment 2\n"
   ]
  },
  {
   "cell_type": "markdown",
   "metadata": {},
   "source": [
    "## Smoothing\n",
    "In this assignment, you will delve into the application of different smoothing techniques on time series data. Utilizing meteorological data, your task is to create a series of plots that demonstrate the effects of various smoothing methods.\n",
    "\n",
    "<div class=\"alert alert-danger\">\n",
    "**Choose 3 out of the 5 folowing smoothing-related tasks**</div>\n",
    "\n",
    "\n",
    "### Comparative Smoothing Methods Analysis\n",
    "- **Goal**: Showcase three smoothing techniques – Rolling Average, Savitzky-Golay, and Resampling – on the same time series data.\n",
    "- **Task**: Overlay these methods over the actual data in a single plot. Ensure each method uses the same window size for consistency. **Describe in a few lines the differences you see.**"
   ]
  },
  {
   "cell_type": "code",
   "execution_count": 1,
   "metadata": {},
   "outputs": [],
   "source": [
    "# code goes here"
   ]
  },
  {
   "cell_type": "markdown",
   "metadata": {},
   "source": [
    "\n",
    "### Rolling Average Window Size Impact\n",
    "- **Goal**: Analyze the effect of varying window sizes on the Rolling Average method.\n",
    "- **Task**: Produce a plot with three lines, each representing the Rolling Average with a different window size. **Describe in a few lines the differences you see.**"
   ]
  },
  {
   "cell_type": "code",
   "execution_count": 2,
   "metadata": {},
   "outputs": [],
   "source": [
    "# code goes here"
   ]
  },
  {
   "cell_type": "markdown",
   "metadata": {},
   "source": [
    "\n",
    "### Savitzky-Golay Polynomial Order Variation\n",
    "- **Goal**: Investigate how changing the polynomial order affects the Savitzky-Golay smoothing method.\n",
    "- **Task**: Create a plot with three lines, where each represents the Savitzky-Golay method with a different polynomial order. **Describe in a few lines the differences you see.**"
   ]
  },
  {
   "cell_type": "code",
   "execution_count": 3,
   "metadata": {},
   "outputs": [],
   "source": [
    "# code goes here"
   ]
  },
  {
   "cell_type": "markdown",
   "metadata": {},
   "source": [
    "\n",
    "### Kernel Shape Influence in Rolling Mean\n",
    "- **Goal**: Explore the impact of different kernel shapes on the Rolling Mean.\n",
    "- **Task**: Generate a plot displaying three lines, each using a different kernel shape in the Rolling Mean. We encorage to use unique kernel shapes that we did not showcase in class. See [this list](https://docs.scipy.org/doc/scipy/reference/signal.windows.html#module-scipy.signal.windows){target=\"_blank\"} of kernels. **Describe in a few lines the differences you see.**"
   ]
  },
  {
   "cell_type": "code",
   "execution_count": 4,
   "metadata": {},
   "outputs": [],
   "source": [
    "# code goes here"
   ]
  },
  {
   "cell_type": "markdown",
   "metadata": {},
   "source": [
    "\n",
    "### Moving Average with Confidence Interval\n",
    "- **Goal**: Plot a Moving Average along with a 75% confidence interval.\n",
    "- **Task**: Design a plot illustrating both the Moving Average and its 75% confidence interval."
   ]
  },
  {
   "cell_type": "code",
   "execution_count": 5,
   "metadata": {},
   "outputs": [],
   "source": [
    "# code goes here"
   ]
  },
  {
   "cell_type": "markdown",
   "metadata": {},
   "source": [
    "## Outliers\n",
    "\n",
    "Using the same datasets from the `outliers/challenge` lecture, you will write rolling functions to detect outliers in time series data. We already wrote together the code that uses the Z-score method to detect outliers. Now, you will write:\n",
    "\n",
    "* a rolling function to detect outliers using the IQR method.\n",
    "* a rolling function to detect outliers using the Median Absolute Deviation (MAD) method.\n",
    "\n",
    "Choose only one column of one of the datasets to perform the outlier detection. You can choose any dataset and any column you prefer.\n",
    "\n",
    "* Plot 2 graphs: one for the IQR method and one for the MAD method with the same window size.\n",
    "* Make a table that shows the number of outliers detected by each method, and different parameters such as window size and threshold. What did you learn from this table?\n"
   ]
  }
 ],
 "metadata": {
  "kernelspec": {
   "display_name": "Python 3",
   "language": "python",
   "name": "python3"
  },
  "language_info": {
   "codemirror_mode": {
    "name": "ipython",
    "version": 3
   },
   "file_extension": ".py",
   "mimetype": "text/x-python",
   "name": "python",
   "nbconvert_exporter": "python",
   "pygments_lexer": "ipython3",
   "version": "3.9.6"
  }
 },
 "nbformat": 4,
 "nbformat_minor": 2
}
