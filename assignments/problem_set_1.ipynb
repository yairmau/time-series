{
 "cells": [
  {
   "cell_type": "markdown",
   "metadata": {
    "id": "ROcR1MUMM8pE"
   },
   "source": [
    "# Time Series Analysis (71606) - Problem Set 1"
   ]
  },
  {
   "cell_type": "markdown",
   "metadata": {
    "id": "4Tte5xWQM8pI"
   },
   "source": [
    "## Instructions"
   ]
  },
  {
   "cell_type": "markdown",
   "metadata": {
    "id": "O-AUxYdeM8pI"
   },
   "source": [
    "Complete the tasks and answer each of the questions below using both text and code cells, as needed.    \n",
    "Your code needs to be able to excute properly.   \n",
    "Make sure to include complete answers. This can be done either using a text cell, or by formating and printing a string (using the 'format' and 'print' functions). See example below.  \n",
    "  \n",
    "Do **not** just dump the value of a variable onto the screen. "
   ]
  },
  {
   "cell_type": "markdown",
   "metadata": {
    "id": "TJb41CjaM8pJ"
   },
   "source": [
    "### Example of desired output format"
   ]
  },
  {
   "cell_type": "markdown",
   "metadata": {
    "id": "G-0pZJilM8pJ"
   },
   "source": [
    "As an example, let's consider the question:  \n",
    "> \"How excited are you about Time Series Analysis from 1-10\"  \n",
    "\n",
    "and the (obvious) answer:\n",
    "\n",
    ">10\n",
    "\n",
    "The perfered answer formats is:"
   ]
  },
  {
   "cell_type": "code",
   "execution_count": 1,
   "metadata": {
    "id": "IQ-T0voEM8pK",
    "outputId": "b3863959-4d0d-44ac-9078-d2d79739db4f"
   },
   "outputs": [
    {
     "name": "stdout",
     "output_type": "stream",
     "text": [
      "My level of excitment about Time Series Analysis is 10!\n"
     ]
    }
   ],
   "source": [
    "excitment = 10\n",
    "print(\"My level of excitment about Time Series Analysis is {ex:0}!\".format(ex=excitment))"
   ]
  },
  {
   "cell_type": "markdown",
   "metadata": {
    "id": "x1fSn9pQM8pL"
   },
   "source": [
    "  "
   ]
  },
  {
   "cell_type": "markdown",
   "metadata": {
    "id": "cL1GcZ9HM8pM"
   },
   "source": [
    "  \n",
    "  Altenrtively, you can hard-code the answer in a text cell:   "
   ]
  },
  {
   "cell_type": "markdown",
   "metadata": {
    "id": "jKHPrVCKM8pM"
   },
   "source": [
    "My level of excitment about data science is 10!"
   ]
  },
  {
   "cell_type": "markdown",
   "metadata": {
    "id": "k8IgrYV3M8pN"
   },
   "source": [
    "    \n",
    "      \n",
    "      "
   ]
  },
  {
   "cell_type": "markdown",
   "metadata": {
    "id": "a7Jq4LKtM8pN"
   },
   "source": [
    "This format is advised only for answers that do not contain the outputs of any code since it is prone to errors - if the code/output changes, the hard-coded text does not."
   ]
  },
  {
   "cell_type": "markdown",
   "metadata": {
    "id": "Di7gCDpXM8pO"
   },
   "source": [
    "### Example of unacceptable output format"
   ]
  },
  {
   "cell_type": "markdown",
   "metadata": {
    "id": "m0p2kiEoM8pO"
   },
   "source": [
    "An unacceptable format is dump the value of a variable onto the screen. For example:"
   ]
  },
  {
   "cell_type": "code",
   "execution_count": 2,
   "metadata": {
    "id": "9MqoPYEmM8pO",
    "outputId": "b36b0e32-ba3d-4339-ab74-9c8b2bc3dfcc"
   },
   "outputs": [
    {
     "data": {
      "text/plain": [
       "10"
      ]
     },
     "execution_count": 2,
     "metadata": {},
     "output_type": "execute_result"
    }
   ],
   "source": [
    "excitment = 10\n",
    "excitment"
   ]
  },
  {
   "cell_type": "markdown",
   "metadata": {
    "id": "SApp8ju_M8pP"
   },
   "source": [
    "***"
   ]
  },
  {
   "cell_type": "markdown",
   "metadata": {
    "id": "EvHKb3E7M8pP"
   },
   "source": [
    "## 1. Imports and parsing"
   ]
  },
  {
   "cell_type": "markdown",
   "metadata": {},
   "source": [
    "Download **one year** of meteorological data from the [Israel Meteorological Service](https://ims.gov.il/en/data_gov), IMS. Choose a station that is different then the one we used in class (not Jerusalm). Save the `.csv` file in the same folder that contains this jupyter notebook (`,ipynb` file)."
   ]
  },
  {
   "cell_type": "code",
   "execution_count": 3,
   "metadata": {
    "id": "0wkjqlvBM8pP"
   },
   "outputs": [],
   "source": [
    "## Import the equired libraries for the pset here.\n",
    "## It is a good habit to start with the imports you'll need in a separare code block."
   ]
  },
  {
   "cell_type": "code",
   "execution_count": 4,
   "metadata": {
    "id": "v4HvtG1DM8pQ"
   },
   "outputs": [],
   "source": [
    "## read the data from the .csv into a pandas dataframe.\n",
    "## parse the data so the index will be the time in datetime format\n",
    "## print the head of the df.\n"
   ]
  },
  {
   "cell_type": "markdown",
   "metadata": {
    "id": "GsOQu5yXM8pQ"
   },
   "source": [
    "*** "
   ]
  },
  {
   "cell_type": "markdown",
   "metadata": {
    "id": "SAmfPI8KM8pQ"
   },
   "source": [
    "## 2. Exploring Resampling in Data Visualization - Specific plots\n",
    "In this section we will ask you to plot specific informtion. In the next section you can be creative and plot other things that interest you.\n",
    "#### Ploting guidlines:\n",
    "1. Always name the axes and add units when relevant.\n",
    "1. Always give a title to the plot.\n",
    "1. Make sure that all axis tick labels (the numbers/dates along the axes) are readable.\n",
    "1. Include a legend if you have multiple lines, colors, or groups.\n",
    "1. Use appropriate scales for the axes (linear, logarithmic, etc.) depending on the data's nature.\n",
    "1. Ensure that the plot is adequately sized for all elements to be clear and visible.\n",
    "1. Choose colors and markers that are distinguishable, especially for plots with multiple elements.\n",
    "1. If applicable, include error bars to indicate the variability or uncertainty in the data.\n",
    "1. Use grid lines sparingly; they should not overshadow the data."
   ]
  },
  {
   "cell_type": "markdown",
   "metadata": {},
   "source": []
  },
  {
   "cell_type": "markdown",
   "metadata": {
    "id": "N_zgbCrbM8pR"
   },
   "source": [
    "### 2.1 Plot the daily maximum humidity. Bonus, add an additional line: the daily minimum humidity.\n",
    "(x->time, y->relative humidity)"
   ]
  },
  {
   "cell_type": "markdown",
   "metadata": {
    "id": "Hz_PeMTvM8pR"
   },
   "source": [
    "### 2.2 Plot the number of rainy days for each month. \n",
    "(x->time in months, y->number of rainy days)"
   ]
  },
  {
   "cell_type": "markdown",
   "metadata": {
    "id": "ylY6uPXlM8pS"
   },
   "source": [
    "### 2.3 Plot 3 lines on the same axes:\n",
    "(x->time, y->temperature)\n",
    "1. Average daily temperature\n",
    "1. Average weekly temperature\n",
    "1. Average monthly temperature"
   ]
  },
  {
   "cell_type": "markdown",
   "metadata": {
    "id": "KhmduzfVM8pS"
   },
   "source": [
    "***"
   ]
  },
  {
   "cell_type": "markdown",
   "metadata": {
    "id": "szxNqU5iM8pS"
   },
   "source": [
    "## 3. Exploring Resampling in Data Visualization - Creative plots\n",
    "In this section, you will create five unique plots. You have the liberty to explore various facets of your dataset that capture your interest. It's essential, however, to maintain a focus on resampling. Each of your plots should effectively showcase and emphasize different aspects or techniques of resampling in your data analysis. To ensure diversity in your visualizations, avoid repetitive themes; for instance, if your first plot illustrates daily wind speed, then your second plot should not simply be a monthly resampling of wind speed. Aim for variety and innovation in each plot to fully explore the potential of resampling in data visualization."
   ]
  },
  {
   "cell_type": "markdown",
   "metadata": {
    "id": "LhkkCf-9M8pS"
   },
   "source": [
    "### 3.1 Plot 1"
   ]
  },
  {
   "cell_type": "code",
   "execution_count": null,
   "metadata": {},
   "outputs": [],
   "source": [
    "# code here"
   ]
  },
  {
   "cell_type": "markdown",
   "metadata": {},
   "source": [
    "### 3.2 Plot 2"
   ]
  },
  {
   "cell_type": "code",
   "execution_count": null,
   "metadata": {},
   "outputs": [],
   "source": [
    "# code here"
   ]
  },
  {
   "cell_type": "markdown",
   "metadata": {},
   "source": [
    "### 3.3 Plot 3"
   ]
  },
  {
   "cell_type": "markdown",
   "metadata": {},
   "source": [
    "### 3.4 Plot 4"
   ]
  },
  {
   "cell_type": "markdown",
   "metadata": {},
   "source": [
    "### 3.5 Plot 5"
   ]
  },
  {
   "cell_type": "markdown",
   "metadata": {
    "id": "qiWL8i0CM8pU"
   },
   "source": [
    "***"
   ]
  }
 ],
 "metadata": {
  "colab": {
   "collapsed_sections": [],
   "name": "problem_set_1.ipynb",
   "provenance": []
  },
  "kernelspec": {
   "display_name": "Python 3",
   "language": "python",
   "name": "python3"
  },
  "language_info": {
   "codemirror_mode": {
    "name": "ipython",
    "version": 3
   },
   "file_extension": ".py",
   "mimetype": "text/x-python",
   "name": "python",
   "nbconvert_exporter": "python",
   "pygments_lexer": "ipython3",
   "version": "3.9.13"
  }
 },
 "nbformat": 4,
 "nbformat_minor": 4
}
