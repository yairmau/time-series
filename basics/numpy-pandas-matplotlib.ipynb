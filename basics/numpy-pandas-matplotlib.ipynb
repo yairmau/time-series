{
  "cells": [
    {
      "cell_type": "markdown",
      "metadata": {},
      "source": [
        "## numpy, pandas, matplotlib\n",
        "\n",
        "```python\n",
        "import numpy as np\n",
        "import pandas as pd\n",
        "import matplotlib.pyplot as plt\n",
        "```\n",
        "\n",
        "The three lines above are the most common way you will start every project in this course.\n",
        "\n",
        "* **numpy** = numerical python. This library has a ton useful mathematical functions, and most importantly, it has an object called `numpy array`, which is one of the most useful data structures we have for time series analysis.\n",
        "* **pandas** is built upon numpy, and allows us to easily manipulate data stored in `dataframes`, a fancy name for a table.\n",
        "* **pyplot** is a submodule of `matplotlib`, and allows us to beautifully plot data.\n",
        "\n",
        "The best resource I know to get acquainted with all three packages is [Python Data Science Handbook, by Jake VanderPlas](https://jakevdp.github.io/PythonDataScienceHandbook/index.html). This is a free online book, with excellent step by step examples.\n",
        "\n",
        "## pandas\n",
        "\n",
        "We will primarily use the Pandas package to deal with data.\n",
        "Pandas has become the standard Python tool to manipulate time series, and you should get acquainted with its basic usage. This course will provide you the opportunity to learn by example, but I'm sure we will only scratch the surface, and you'll be left with lots of questions.\n",
        "\n",
        "I provide below a (non-comprehensive) list of useful tutorials, they are a good reference for the beginner and for the experienced user.\n",
        "\n",
        "* [Python Data Science Handbook, by Jake VanderPlas](https://jakevdp.github.io/PythonDataScienceHandbook/index.html)\n",
        "* [Data Wrangling with pandas Cheat Sheet](https://pandas.pydata.org/Pandas_Cheat_Sheet.pdf)\n",
        "* [Working with Dates and Times in Python](https://images.datacamp.com/image/upload/v1666944896/Marketing/Blog/Working_with_Dates_and_Times_Cheat_Sheet.pdf)\n",
        "* [Cheat Sheet: The pandas DataFrame Object](https://www.webpages.uidaho.edu/~stevel/cheatsheets/Pandas%20DataFrame%20Notes_12pages.pdf)\n",
        "* [YouTube tutorials](https://www.youtube.com/watch?v=ZyhVh-qRZPA&list=PL-osiE80TeTsWmV9i9c58mdDCSskIFdDS&pp=iAQB) by Corey Schafer\n",
        "\n",
        "## pyplot\n",
        "\n",
        "Matplotlib, and its submodule pyplot, are probably the most common Python plotting tool. Pyplot is both great and horrible:\n",
        "\n",
        "* Great: you'll have absolutely full control of everything you want to plot. The sky is the limit.\n",
        "* Horrible: you'll cry as you do it, because there is so much to know, and it is not the most friendly plotting package.\n",
        "\n",
        "Pyplot is *object oriented*, so you will usually manipulate the **axes** object like this.\n"
      ],
      "id": "6da92c7b"
    },
    {
      "cell_type": "code",
      "metadata": {},
      "source": [
        "import matplotlib.pyplot as plt\n",
        "\n",
        "x = [1, 2, 3, 4, 5]\n",
        "y = [1, 4, 2, 0, 3]\n",
        "\n",
        "# Figure with two plots\n",
        "fig, (ax1, ax2) = plt.subplots(1, 2, figsize = (8, 6))\n",
        "# plot on the left\n",
        "ax1.plot(x, y, color=\"tab:blue\")\n",
        "ax1.plot(x, y[::-1], color=\"tab:orange\")\n",
        "ax1.set(xlabel=\"date\",\n",
        "        ylabel=\"something\",\n",
        "        title=\"left panel\")\n",
        "# plot on the right\n",
        "ax2.plot(x, y[::-1])\n",
        "ax2.set(xlabel=\"date\",\n",
        "        ylabel=\"something else\",\n",
        "        title=\"right panel\")"
      ],
      "id": "c3ba81fe",
      "execution_count": null,
      "outputs": []
    },
    {
      "cell_type": "markdown",
      "metadata": {},
      "source": [
        "For the very beginners, you need to know that `figure` refers to the whole white canvas, and `axes` means the rectangle inside which something will be plotted:\n",
        "\n",
        "![](https://www.earthdatascience.org/images/earth-analytics/plot-data/fig-2-plots.png)\n",
        "\n",
        "If you are new to all this, I recommend that you go to:\n",
        "\n",
        "* [Earth Lab's Introduction to Plotting in Python Using Matplotlib](https://www.earthdatascience.org/courses/scientists-guide-to-plotting-data-in-python/plot-with-matplotlib/introduction-to-matplotlib-plots/)\n",
        "* [Jake VanderPlas's Python Data Science Handbook](https://jakevdp.github.io/PythonDataScienceHandbook/index.html)"
      ],
      "id": "d95a4825"
    }
  ],
  "metadata": {
    "kernelspec": {
      "name": "python3",
      "language": "python",
      "display_name": "Python 3 (ipykernel)"
    }
  },
  "nbformat": 4,
  "nbformat_minor": 5
}