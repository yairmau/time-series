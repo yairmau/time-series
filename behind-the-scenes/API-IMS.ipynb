{
 "cells": [
  {
   "cell_type": "markdown",
   "metadata": {},
   "source": [
    "## API to download data from IMS {.unnumbered}"
   ]
  },
  {
   "cell_type": "code",
   "execution_count": null,
   "metadata": {
    "vscode": {
     "languageId": "plaintext"
    }
   },
   "outputs": [],
   "source": [
    "# TOKEN = \"f058958a-d8bd-47cc-95d7-7ecf98610e47\"\n",
    "# STATION_NUM = 28  # 28 = \"SHANI\"\n",
    "# DATA = 10  # 10 = TDmax (max temperature)\n",
    "# start = \"2022/01/01\"\n",
    "# end = \"2022/02/01\"\n",
    "# url = f\"https://api.ims.gov.il/v1/envista/stations/{STATION_NUM}\"\n",
    "# url = f\"https://api.ims.gov.il/v1/envista/stations/{STATION_NUM}/data/?from={start}&to={end}\"\n",
    "# # url = f\"https://api.ims.gov.il/v1/envista/stations/{STATION_NUM}/data/{DATA}/data/11/?from={start}&to={end}\"\n",
    "# headers = {'Authorization': 'ApiToken f058958a-d8bd-47cc-95d7-7ecf98610e47'}\n",
    "# response = requests.request(\"GET\", url, headers=headers)\n",
    "# data= json.loads(response.text.encode('utf8'))\n",
    "\n",
    "# # Save the JSON data to a file\n",
    "# with open('shani_2022_january.json', 'w') as json_file:\n",
    "#     json.dump(data, json_file)\n",
    "\n",
    "# data"
   ]
  },
  {
   "cell_type": "code",
   "execution_count": null,
   "metadata": {
    "vscode": {
     "languageId": "plaintext"
    }
   },
   "outputs": [],
   "source": [
    "# # https://ims.gov.il/he/ObservationDataAPI\n",
    "# # https://ims.gov.il/sites/default/files/2021-09/API%20explanation.pdf\n",
    "# # https://ims.gov.il/sites/default/files/2022-04/Python%20API%20example.pdf\n",
    "# TOKEN = \"f058958a-d8bd-47cc-95d7-7ecf98610e47\"\n",
    "# STATION_NUM = 23  # 23 = \"JERUSALEM CENTRE\"\n",
    "# DATA = 9  # 9 = TDmax (max temperature)\n",
    "# start = \"2022/01/01\"\n",
    "# end = \"2022/02/01\"\n",
    "# url = f\"https://api.ims.gov.il/v1/envista/stations/{STATION_NUM}/data/{DATA}/?from={start}&to={end}\"\n",
    "# headers = {'Authorization': 'ApiToken f058958a-d8bd-47cc-95d7-7ecf98610e47'}\n",
    "# response = requests.request(\"GET\", url, headers=headers)\n",
    "# data= json.loads(response.text.encode('utf8'))\n",
    "\n",
    "# print(url)"
   ]
  },
  {
   "cell_type": "code",
   "execution_count": null,
   "metadata": {
    "vscode": {
     "languageId": "plaintext"
    }
   },
   "outputs": [],
   "source": [
    "# url = \"https://api.ims.gov.il/v1/envista/stations/28/data/10/data/11/?from=2022/01/01&to=2022/01/03\"\n",
    "# response = requests.request(\"GET\", url, headers=headers)\n",
    "# data = json.loads(response.text.encode('utf8'))"
   ]
  },
  {
   "cell_type": "code",
   "execution_count": null,
   "metadata": {
    "vscode": {
     "languageId": "plaintext"
    }
   },
   "outputs": [],
   "source": [
    "# # RH = 8\n",
    "# # TDmax = 10, max temperature\n",
    "# # TDmin = 11, min temperature\n",
    "# url = \"https://api.ims.gov.il/v1/envista/stations/28/data/10/?from=2022/01/01&to=2022/01/31\"\n",
    "# response = requests.request(\"GET\", url, headers=headers)\n",
    "# data = json.loads(response.text.encode('utf8'))\n",
    "\n",
    "# df = pd.json_normalize(data['data'],record_path=['channels'], meta=['datetime'])\n",
    "# df['date'] = pd.to_datetime(df['datetime']).dt.tz_localize(None)  # ignore time zone information\n",
    "# df = df.set_index('date')\n",
    "\n",
    "# df\n",
    "# data['data']"
   ]
  }
 ],
 "metadata": {
  "language_info": {
   "name": "python"
  }
 },
 "nbformat": 4,
 "nbformat_minor": 2
}
