{
 "cells": [
  {
   "cell_type": "markdown",
   "metadata": {},
   "source": [
    "# sound"
   ]
  },
  {
   "cell_type": "markdown",
   "metadata": {},
   "source": [
    "Sound source: [University of Iowa Electronic Music Studios](https://theremin.music.uiowa.edu/index.html)\n",
    "\n",
    "Piano A4  \n",
    "<audio controls=\"controls\"><source src=\"files/Piano.mf.A4.aiff\" type=\"audio/aiff\" /></audio>\n",
    "\n",
    "Piano A3  \n",
    "<audio controls=\"controls\"><source src=\"files/Piano.mf.A3.aiff\" type=\"audio/aiff\" /></audio>\n",
    "\n",
    "Piano B4  \n",
    "<audio controls=\"controls\"><source src=\"files/Piano.mf.B4.aiff\" type=\"audio/aiff\" /></audio>"
   ]
  },
  {
   "cell_type": "code",
   "execution_count": null,
   "metadata": {},
   "outputs": [],
   "source": []
  }
 ],
 "metadata": {
  "language_info": {
   "name": "python"
  }
 },
 "nbformat": 4,
 "nbformat_minor": 2
}
