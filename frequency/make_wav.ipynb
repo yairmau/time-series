{
 "cells": [
  {
   "cell_type": "code",
   "execution_count": 26,
   "metadata": {},
   "outputs": [],
   "source": [
    "import numpy as np\n",
    "import scipy.io.wavfile\n",
    "\n",
    "\n",
    "class BeepGenerator:\n",
    "    def __init__(self):\n",
    "        # Audio will contain a long list of samples (i.e. floating point numbers describing the\n",
    "        # waveform).  If you were working with a very long sound you'd want to stream this to\n",
    "        # disk instead of buffering it all in memory list this.  But most sounds will fit in \n",
    "        # memory.\n",
    "        self.audio = []\n",
    "        self.sample_rate = 44100.0\n",
    "\n",
    "    def append_silence(self, duration_milliseconds=500):\n",
    "        \"\"\"\n",
    "        Adding silence is easy - we add zeros to the end of our array\n",
    "        \"\"\"\n",
    "        num_samples = duration_milliseconds * (self.sample_rate / 1000.0)\n",
    "\n",
    "        for x in range(int(num_samples)):\n",
    "            self.audio.append(0.0)\n",
    "\n",
    "        return\n",
    "\n",
    "    def append_sinewave(\n",
    "            self,\n",
    "            freq=440.0,\n",
    "            duration_milliseconds=500,\n",
    "            volume=1.0):\n",
    "        \"\"\"\n",
    "        The sine wave generated here is the standard beep.  If you want something\n",
    "        more aggressive you could try a square or saw tooth waveform.   Though there\n",
    "        are some rather complicated issues with making high quality square and\n",
    "        sawtooth waves... which we won't address here :) \n",
    "        \"\"\"\n",
    "\n",
    "        num_samples = duration_milliseconds * (self.sample_rate / 1000.0)\n",
    "\n",
    "        x = np.array([i for i in range(int(num_samples))])\n",
    "\n",
    "        sine_wave = volume * np.sin(2 * np.pi * freq * (x / self.sample_rate))\n",
    "\n",
    "        self.audio.extend(list(sine_wave))\n",
    "        return\n",
    "\n",
    "    def append_sinewaves(\n",
    "            self,\n",
    "            freqs=[440.0],\n",
    "            duration_milliseconds=500,\n",
    "            volumes=[1.0]):\n",
    "        \"\"\"\n",
    "        The sine wave generated here is the standard beep.  If you want something\n",
    "        more aggressive you could try a square or saw tooth waveform.   Though there\n",
    "        are some rather complicated issues with making high quality square and\n",
    "        sawtooth waves... which we won't address here :)\n",
    "        len(freqs) must be the same as len(volumes)\n",
    "        \"\"\"\n",
    "\n",
    "        volumes = list(np.array(volumes)/sum(volumes))\n",
    "        num_samples = duration_milliseconds * (self.sample_rate / 1000.0)\n",
    "        x = np.array([i for i in range(int(num_samples))])\n",
    "\n",
    "        first_it = True\n",
    "        for volume, freq in zip(volumes, freqs):\n",
    "            print(freq)\n",
    "            if first_it:\n",
    "                sine_wave = volume * np.sin(2 * np.pi * freq * (x / self.sample_rate))\n",
    "                first_it = False\n",
    "            else:\n",
    "                sine_wave += volume * np.sin(2 * np.pi * freq * (x / self.sample_rate))\n",
    "\n",
    "        self.audio.extend(list(sine_wave))\n",
    "        return\n",
    "\n",
    "    def save_wav(self, file_name):\n",
    "        # Open up a wav file\n",
    "        # wav params\n",
    "\n",
    "        # 44100 is the industry standard sample rate - CD quality.  If you need to\n",
    "        # save on file size you can adjust it downwards. The standard for low quality\n",
    "        # is 8000 or 8kHz.\n",
    "\n",
    "        # WAV files here are using short, 16 bit, signed integers for the \n",
    "        # sample size.  So we multiply the floating point data we have by 32767, the\n",
    "        # maximum value for a short integer.  NOTE: It is theoretically possible to\n",
    "        # use the floating point -1.0 to 1.0 data directly in a WAV file but not\n",
    "        # obvious how to do that using the wave module in python.\n",
    "        self.audio = np.array(self.audio).astype(np.float32)\n",
    "        scipy.io.wavfile.write(file_name, int(self.sample_rate), np.array(self.audio))\n",
    "\n",
    "        return\n",
    "\n",
    "\n",
    "if __name__ == \"__main__\":\n",
    "    \"\"\"\n",
    "    source:\n",
    "    https://stackoverflow.com/a/74710298\n",
    "    \"\"\"\n",
    "\n",
    "\n",
    "\n"
   ]
  },
  {
   "cell_type": "code",
   "execution_count": 27,
   "metadata": {},
   "outputs": [
    {
     "name": "stdout",
     "output_type": "stream",
     "text": [
      "220.0\n",
      "310.0\n",
      "400.0\n",
      "490.0\n",
      "580.0\n",
      "670.0\n",
      "760.0\n",
      "850.0\n",
      "940.0\n",
      "1030.0\n",
      "1120.0\n",
      "1210.0\n",
      "1300.0\n",
      "1390.0\n",
      "1480.0\n",
      "1570.0\n",
      "1660.0\n",
      "1750.0\n",
      "1840.0\n",
      "1930.0\n"
     ]
    }
   ],
   "source": [
    "# linear\n",
    "\n",
    "bg = BeepGenerator()\n",
    "fr_linear = np.arange(220.0, 220.0 + 20*90, 90)\n",
    "for fr in fr_linear:\n",
    "    bg.append_sinewaves(volumes=[1], duration_milliseconds=dur_sound, freqs=[fr])\n",
    "    bg.append_silence(dur_silence)\n",
    "bg.save_wav(\"output1.wav\")"
   ]
  },
  {
   "cell_type": "code",
   "execution_count": 28,
   "metadata": {},
   "outputs": [
    {
     "name": "stdout",
     "output_type": "stream",
     "text": [
      "220.0\n",
      "246.94165062806206\n",
      "277.1826309768721\n",
      "311.1269837220809\n",
      "349.2282314330039\n",
      "391.9954359817494\n",
      "440.0000000000001\n",
      "493.88330125612424\n",
      "554.3652619537443\n",
      "622.253967444162\n",
      "698.456462866008\n",
      "783.9908719634989\n",
      "880.0000000000003\n",
      "987.7666025122486\n",
      "1108.7305239074888\n",
      "1244.5079348883244\n",
      "1396.9129257320162\n",
      "1567.9817439269982\n",
      "1760.0000000000011\n",
      "1975.5332050244976\n"
     ]
    }
   ],
   "source": [
    "# exponential\n",
    "\n",
    "alpha = 2 ** (2.0/12)\n",
    "bg = BeepGenerator()\n",
    "fr_exp = np.array(\n",
    "    [220.0 * alpha ** i for i in range(20)]\n",
    ")\n",
    "for fr in fr_exp:\n",
    "    bg.append_sinewaves(volumes=[1], duration_milliseconds=dur_sound, freqs=[fr])\n",
    "    bg.append_silence(dur_silence)\n",
    "bg.save_wav(\"output2.wav\")"
   ]
  },
  {
   "cell_type": "code",
   "execution_count": 29,
   "metadata": {},
   "outputs": [
    {
     "name": "stdout",
     "output_type": "stream",
     "text": [
      "261.626\n",
      "523.252\n",
      "784.8779999999999\n",
      "1046.504\n",
      "1308.1299999999999\n",
      "1569.7559999999999\n",
      "1831.3819999999998\n"
     ]
    }
   ],
   "source": [
    "bg = BeepGenerator()\n",
    "c_harm = np.array(\n",
    "    [261.626 * i for i in range(1,8)]\n",
    ")\n",
    "for fr in c_harm:\n",
    "    bg.append_sinewaves(volumes=[1], duration_milliseconds=dur_sound, freqs=[fr])\n",
    "    bg.append_silence(dur_silence)\n",
    "bg.save_wav(\"C-harmonics.wav\")"
   ]
  },
  {
   "cell_type": "code",
   "execution_count": 30,
   "metadata": {},
   "outputs": [
    {
     "name": "stdout",
     "output_type": "stream",
     "text": [
      "523.252\n",
      "654.0649999999999\n",
      "784.8779999999999\n",
      "523.252\n",
      "654.0649999999999\n",
      "784.8779999999999\n"
     ]
    }
   ],
   "source": [
    "bg = BeepGenerator()\n",
    "bg.append_sinewaves(volumes=[1,1,1], duration_milliseconds=3000, freqs=c_harm[3:6]/2)\n",
    "bg.save_wav(\"C_5.wav\")\n",
    "\n",
    "bg = BeepGenerator()\n",
    "bg.append_sinewaves(volumes=[1,1,1], duration_milliseconds=3000, freqs=c_harm[3:7]/2)\n",
    "bg.save_wav(\"C7_5.wav\")"
   ]
  },
  {
   "cell_type": "code",
   "execution_count": 31,
   "metadata": {},
   "outputs": [
    {
     "name": "stdout",
     "output_type": "stream",
     "text": [
      "2093.008\n",
      "2217.46473219876\n"
     ]
    }
   ],
   "source": [
    "bg = BeepGenerator()\n",
    "alpha = 2 ** (1.0/12)\n",
    "bg.append_sinewaves(volumes=[1,1], duration_milliseconds=3000, freqs=[2*c_harm[3], 2*c_harm[3]*alpha])\n",
    "bg.save_wav(\"CCsharp_5.wav\")"
   ]
  },
  {
   "cell_type": "code",
   "execution_count": 17,
   "metadata": {},
   "outputs": [],
   "source": [
    "c_harm = np.array(\n",
    "    [261.626 * i for i in range(1,8)]\n",
    ")"
   ]
  },
  {
   "cell_type": "code",
   "execution_count": 19,
   "metadata": {},
   "outputs": [
    {
     "data": {
      "text/plain": [
       "array([1046.504, 1308.13 , 1569.756])"
      ]
     },
     "execution_count": 19,
     "metadata": {},
     "output_type": "execute_result"
    }
   ],
   "source": [
    "c_harm[3:6]"
   ]
  },
  {
   "cell_type": "code",
   "execution_count": null,
   "metadata": {},
   "outputs": [],
   "source": []
  }
 ],
 "metadata": {
  "kernelspec": {
   "display_name": "Python 3",
   "language": "python",
   "name": "python3"
  },
  "language_info": {
   "codemirror_mode": {
    "name": "ipython",
    "version": 3
   },
   "file_extension": ".py",
   "mimetype": "text/x-python",
   "name": "python",
   "nbconvert_exporter": "python",
   "pygments_lexer": "ipython3",
   "version": "3.10.9"
  }
 },
 "nbformat": 4,
 "nbformat_minor": 2
}
