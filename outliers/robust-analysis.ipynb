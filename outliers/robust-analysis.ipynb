{
 "cells": [
  {
   "cell_type": "markdown",
   "metadata": {},
   "source": [
    "---\n",
    "title: \"robust analysis\"\n",
    "execute:\n",
    "  # echo: false\n",
    "  freeze: auto  # re-render only when source changes\n",
    "format:\n",
    "  html:\n",
    "    code-fold: true\n",
    "    code-summary: \"Show the code\"\n",
    "---"
   ]
  },
  {
   "cell_type": "markdown",
   "metadata": {},
   "source": [
    "A tool is said to be **robust** if outliers don't influence (much) its results.\n",
    "\n",
    "The average and standard deviation are **not** robust."
   ]
  },
  {
   "cell_type": "code",
   "execution_count": 3,
   "metadata": {},
   "outputs": [
    {
     "name": "stdout",
     "output_type": "stream",
     "text": [
      "series 1: mean=3.00, std=2.00\n",
      "series 2: mean=10.71, std=20.18\n"
     ]
    }
   ],
   "source": [
    "#| code-fold: false\n",
    "import numpy as np\n",
    "series1 = np.array([0, 1, 2, 3, 4, 5, 6])\n",
    "series2 = np.array([0, 1, 2, 3, 4, 5, 60])\n",
    "print(f\"series 1: mean={series1.mean():.2f}, std={series1.std():.2f}\")\n",
    "print(f\"series 2: mean={series2.mean():.2f}, std={series2.std():.2f}\")"
   ]
  },
  {
   "cell_type": "markdown",
   "metadata": {},
   "source": [
    "On the other hand, the median and IQR are robust:"
   ]
  },
  {
   "cell_type": "code",
   "execution_count": 6,
   "metadata": {},
   "outputs": [
    {
     "name": "stdout",
     "output_type": "stream",
     "text": [
      "series 1: median=3.00, IQR=3.00\n",
      "series 2: median=3.00, IQR=3.00\n"
     ]
    }
   ],
   "source": [
    "#| code-fold: false\n",
    "from scipy.stats import iqr\n",
    "print(f\"series 1: median={np.median(series1):.2f}, IQR={iqr(series1):.2f}\")\n",
    "print(f\"series 2: median={np.median(series2):.2f}, IQR={iqr(series2):.2f}\")"
   ]
  },
  {
   "cell_type": "markdown",
   "metadata": {},
   "source": [
    "## MAD\n",
    "Another rubust method is MAD, the Median Absolute Deviation, given by\n",
    "\n",
    "$$\n",
    "\\text{MAD} = \\text{median}(\\left| x_i - \\text{median}(x)  \\right|),\n",
    "$$\n",
    "\n",
    "where $|\\cdot|$ is the absolute value.\n",
    "\n",
    "Applying MAD to the stationary time series from before, yields\n",
    "\n",
    "![](outliers_MAD_stationary.png)\n",
    "\n",
    "Here, the threshold is the median $\\pm3k\\cdot$ MAD, where the value $k=1.4826$ scales MAD so that when the data is gaussianly distributed, $3k$ equals 1 standard deviation."
   ]
  },
  {
   "cell_type": "code",
   "execution_count": null,
   "metadata": {},
   "outputs": [],
   "source": []
  }
 ],
 "metadata": {
  "kernelspec": {
   "display_name": "base",
   "language": "python",
   "name": "python3"
  },
  "language_info": {
   "codemirror_mode": {
    "name": "ipython",
    "version": 3
   },
   "file_extension": ".py",
   "mimetype": "text/x-python",
   "name": "python",
   "nbconvert_exporter": "python",
   "pygments_lexer": "ipython3",
   "version": "3.9.16"
  }
 },
 "nbformat": 4,
 "nbformat_minor": 2
}
