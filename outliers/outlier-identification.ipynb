{
 "cells": [
  {
   "cell_type": "markdown",
   "metadata": {},
   "source": [
    "---\n",
    "title: \"outlier identification\"\n",
    "execute:\n",
    "  # echo: false\n",
    "  freeze: auto  # re-render only when source changes\n",
    "format:\n",
    "  html:\n",
    "    code-fold: true\n",
    "    code-summary: \"Show the code\"\n",
    "    # suppress-bibliography: true\n",
    "---"
   ]
  },
  {
   "cell_type": "markdown",
   "metadata": {},
   "source": [
    "## visual inspection\n",
    "\n",
    "I produced a stationary signal and added to it a few ouliers.\n",
    "Can you tell where just by looking at the graph?\n",
    "![](signal_39_stationary.png)\n",
    "\n",
    "The easiest way of identifying the outliers is:\n",
    "\n",
    "* First plot the time series.\n",
    "* Choose upper and lower boundaries. Whatever falls outside these boundaries is an outlier.\n",
    "\n",
    "Easy.\n",
    "\n",
    "![](outliers_visual_inspection.png)\n",
    "\n",
    "If all you have is this one time series, you're done, congratulations. However, it is often the case that one has very long time series, or a great number of time series to analyze. In this case it is impractical to use the visual inspection method. We would like to devise an algorithm to automate this task."
   ]
  },
  {
   "cell_type": "markdown",
   "metadata": {},
   "source": [
    "## Z-score\n",
    "\n",
    "The Z-score is the distance, in units of 1 standard deviation, of a point in the series with respect to the mean:\n",
    "\n",
    "$$\n",
    "z  = \\frac{x-\\mu}{\\sigma},\n",
    "$$\n",
    "\n",
    "::: {.column-margin}\n",
    "where  \n",
    "\n",
    "* $x=$ data point,  \n",
    "* $\\mu=$ time series mean  \n",
    "* $\\sigma=$ time series standard deviation.\n",
    ":::\n",
    "\n",
    "A common choice is to consider an outlier a point whose Z-score is greater that 3, in absolute value. In other words: If a point is more than 3 standard deviations away form the mean, then we call it an outlier.\n",
    "\n",
    "![](outliers_3sigma.png)\n",
    "\n",
    "You can now use this algorithm to any number of time series, let the computer do the hard work.\n",
    "\n",
    "Of course, there is nothing sacred about the number 3. You can choose any Z-score you want to perform an analysis on your own data, depending on your needs."
   ]
  },
  {
   "cell_type": "markdown",
   "metadata": {},
   "source": [
    "## IQR\n",
    "\n",
    "Another super common criterion for identifying outliers is the IQR, or InterQuartile Range.\n",
    "\n",
    "Take a look at the statistics below of the time series we have been working with so far.\n",
    "The IQR is the distance between the first quartile (Q1) and the third quartile (Q3), where exactly 50% of the data is.\n",
    "\n",
    "The algorithm here is to determine two thresholds, whose distance is 1.5 times the IQR from Q1 and Q3. Whatever falls outside these two thresholds is an outlier.\n",
    "\n",
    "![](IQR_pdf.png)\n",
    "\n",
    "We are used to see this in box plots:\n",
    "\n",
    "![](iqr1.png)\n",
    "\n",
    "::: {.column-margin}\n",
    "Source: @Andy_McDonald_2022\n",
    ":::\n",
    "\n",
    "\n",
    "Again, the distance 1.5 is not sacred, it's only the most common. You might want to choose other values depending on your needs. Let's now apply the IQR method to our time series.\n",
    "\n",
    "![](outliers_1.5IQR.png)\n",
    "\n",
    "It works pretty well! Notice that now we have an additional outlier (a bit before 06:00). What do we do with that?"
   ]
  },
  {
   "cell_type": "markdown",
   "metadata": {},
   "source": [
    "## non-stationary time series\n",
    "\n",
    "I have produced a new time series, one that on average goes up with time. Can you point in the graph where are the outliers?\n",
    "\n",
    "![](signal_40_non_stationary.png)\n",
    "\n",
    "Now, see what happens when we apply the previous two methods to this time series.\n",
    "\n",
    "**Z-score**\n",
    "\n",
    "![](outliers_3sigma_seed40.png)\n",
    "\n",
    "**IQR**\n",
    "\n",
    "![](outliers_1.5IQR_seed40.png)\n",
    "\n",
    "What happened? Do you have ideas how to solve this?"
   ]
  },
  {
   "cell_type": "markdown",
   "metadata": {},
   "source": [
    "## Sources"
   ]
  },
  {
   "cell_type": "markdown",
   "metadata": {},
   "source": []
  }
 ],
 "metadata": {
  "language_info": {
   "name": "python"
  }
 },
 "nbformat": 4,
 "nbformat_minor": 2
}
