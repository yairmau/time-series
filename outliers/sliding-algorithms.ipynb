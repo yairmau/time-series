{
 "cells": [
  {
   "cell_type": "markdown",
   "metadata": {},
   "source": [
    "---\n",
    "title: \"sliding algorithms\"\n",
    "execute:\n",
    "  # echo: false\n",
    "  freeze: auto  # re-render only when source changes\n",
    "format:\n",
    "  html:\n",
    "    code-fold: true\n",
    "    code-summary: \"Show the code\"\n",
    "---"
   ]
  },
  {
   "cell_type": "markdown",
   "metadata": {},
   "source": [
    "None of the methods learned before seem appropriate to deal with non-stationary data. A simple solution is to apply those methods for sliding windows of \"appropriate\" widths.\n",
    "\n",
    "## Sliding Z-score\n",
    "\n",
    "![](outliers_rolling_3std.png)\n",
    "\n",
    "Now the Z-score seems to give really nice results (but not perfect). Maybe playing with the window width and Z-score threshold would give better results?\n",
    "\n",
    "In any case, we clearly see why the Z-score is not a robust algorithm. See how the standard deviation is sensitive to outliers?"
   ]
  },
  {
   "cell_type": "markdown",
   "metadata": {},
   "source": [
    "## Sliding IQR\n",
    "\n",
    "Let's see how well the sliding IQR method fares.\n",
    "\n",
    "![](outliers_rolling_IQR.png)\n",
    "\n",
    "It identified all the outliers, but also found that a few *other* points should be considered outliers? What do you think of that?\n",
    "\n",
    "See that the threshold does not jump abruptly when the sliding window includes an outlier. In fact, the threshold doesn't even care! This is what it means to be robust.\n",
    "\n",
    "However, we do see large fluctuations in the threshold. When does this happen? Why?"
   ]
  },
  {
   "cell_type": "markdown",
   "metadata": {},
   "source": [
    "## Sliding MAD\n",
    "\n",
    "Now it's MAD's time to shine.\n",
    "\n",
    "![](outliers_rolling_MAD.png)\n",
    "\n",
    "Compare this result to the previous two. Which yields best results?\n",
    "\n",
    "MAD is robust to outliers, and again we see that the threshold envelope widens when there is a rising or falling trend in the data."
   ]
  },
  {
   "cell_type": "markdown",
   "metadata": {},
   "source": [
    "## Challenges\n",
    "\n",
    "Now it's your turn to work, I'm tired! Write algorithms for the following outlier identification methods:\n",
    "\n",
    "1. visual inspection\n",
    "1. Z-score\n",
    "1. IQR\n",
    "1. MAD\n",
    "\n",
    "Excluding the visual inspection method, write first an algorithm that operates on a full time series, and then write a new version that can work with sliding windows."
   ]
  }
 ],
 "metadata": {
  "language_info": {
   "name": "python"
  }
 },
 "nbformat": 4,
 "nbformat_minor": 2
}
