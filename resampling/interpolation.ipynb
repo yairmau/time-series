{
 "cells": [
  {
   "cell_type": "markdown",
   "metadata": {},
   "source": [
    "---\n",
    "title: \"interpolation\"\n",
    "execute:\n",
    "  freeze: auto  # re-render only when source changes\n",
    "---"
   ]
  },
  {
   "cell_type": "markdown",
   "metadata": {},
   "source": [
    "Interpolation is the act of getting data you don't have from data you alreay have. We used some interpolation when upsampling, and now it is time to talk about it a little bit more in depth.\n",
    "\n",
    "There is no one correct way of interpolating, the method you use depends in the end on what you want to accomplish, what are your (hidden or explicit) assumptions, etc. Let's see a few examples."
   ]
  }
 ],
 "metadata": {
  "language_info": {
   "name": "python"
  },
  "orig_nbformat": 4
 },
 "nbformat": 4,
 "nbformat_minor": 2
}
