{
 "cells": [
  {
   "cell_type": "markdown",
   "metadata": {},
   "source": [
    "## trends in atmospheric carbon dioxide\n",
    "\n",
    "Mauna Loa CO2 concentration.  \n",
    "data from [NOAA](https://gml.noaa.gov/ccgg/trends/data.html)"
   ]
  },
  {
   "cell_type": "code",
   "execution_count": null,
   "metadata": {},
   "outputs": [],
   "source": [
    "#| code-summary: \"load csv\"\n",
    "url = \"https://gml.noaa.gov/webdata/ccgg/trends/co2/co2_weekly_mlo.csv\"\n",
    "# df = pd.read_csv(url, header=47, na_values=[-999.99])\n",
    "\n",
    "# you can first download, and then read the csv\n",
    "filename = \"co2_weekly_mlo.csv\"\n",
    "df = pd.read_csv(filename,\n",
    "                 comment='#',  # will ignore rows starting with #\n",
    "                 na_values=[-999.99]  # substitute -999.99 for NaN (Not a Number), data not available\n",
    "                 )\n",
    "df['date'] = pd.to_datetime(df[['year', 'month', 'day']])\n",
    "df = df.set_index('date')\n",
    "df"
   ]
  },
  {
   "cell_type": "markdown",
   "metadata": {},
   "source": [
    "The original data has a `decimal` column, showing the date as a decimal number instead of `YYYY-MM-DD`. This will turn out to be very useful to us in a little while. The code below calculates our own column with the decimal representation of the date, it is nice to know how to compute it."
   ]
  },
  {
   "cell_type": "code",
   "execution_count": null,
   "metadata": {},
   "outputs": [],
   "source": [
    "#| code-fold: false\n",
    "\n",
    "def toYearFraction(date):\n",
    "    \"\"\"\n",
    "    source: https://stackoverflow.com/a/6451892\n",
    "    This function accepts one date and returns its decimal representation\n",
    "    This works also with leap years.\n",
    "    \"\"\"\n",
    "    def sinceEpoch(date): # returns seconds since epoch (1970-01-01)\n",
    "        return time.mktime(date.timetuple())\n",
    "    s = sinceEpoch  # renaming of the function for convenience\n",
    "\n",
    "    year = date.year\n",
    "    startOfThisYear = dt(year=year, month=1, day=1)\n",
    "    startOfNextYear = dt(year=year+1, month=1, day=1)\n",
    "\n",
    "    yearElapsed = s(date) - s(startOfThisYear)\n",
    "    yearDuration = s(startOfNextYear) - s(startOfThisYear)\n",
    "    fraction = yearElapsed/yearDuration\n",
    "\n",
    "    return date.year + fraction\n",
    "\n",
    "# add new column to df\n",
    "df['decimal_date'] = [toYearFraction(x) for x in df.index]\n",
    "# we have too many columns, keep only average and decimal_date\n",
    "columns_to_keep = ['average', 'decimal_date']  # Add the column names you want to keep here\n",
    "df = df.drop(columns=df.columns.difference(columns_to_keep))\n",
    "df = df.rename(columns={'average': 'co2'})\n",
    "df"
   ]
  },
  {
   "cell_type": "code",
   "execution_count": null,
   "metadata": {},
   "outputs": [],
   "source": [
    "fig, ax = plt.subplots(figsize=(8,5))\n",
    "ax.plot(df['co2'])\n",
    "ax.set(ylabel=\"CO2 concentration (ppm)\",\n",
    "       title=\"Mauna Loa CO2 concentration\");"
   ]
  },
  {
   "cell_type": "markdown",
   "metadata": {},
   "source": [
    "## trend"
   ]
  },
  {
   "cell_type": "code",
   "execution_count": null,
   "metadata": {},
   "outputs": [],
   "source": [
    "df['trend365D'] = df['co2'].rolling('365D', center=True).mean()\n",
    "df['co2_detrended'] = df['co2'] - df['trend365D']"
   ]
  },
  {
   "cell_type": "code",
   "execution_count": null,
   "metadata": {},
   "outputs": [],
   "source": [
    "fig, ax = plt.subplots(figsize=(8,5))\n",
    "ax.plot(df['co2'])\n",
    "ax.plot(df['trend365D'])\n",
    "ax.set(ylabel=\"CO2 concentration (ppm)\",\n",
    "       title=\"Mauna Loa CO2 concentration\");"
   ]
  },
  {
   "cell_type": "code",
   "execution_count": null,
   "metadata": {},
   "outputs": [],
   "source": [
    "fig, ax = plt.subplots(figsize=(8,5))\n",
    "ax.plot(df['co2_detrended'])"
   ]
  },
  {
   "cell_type": "code",
   "execution_count": null,
   "metadata": {},
   "outputs": [],
   "source": [
    "gb_year = df.groupby(df.index.year)"
   ]
  },
  {
   "cell_type": "code",
   "execution_count": null,
   "metadata": {},
   "outputs": [],
   "source": [
    "# %matplotlib widget\n",
    "\n",
    "fig, ax = plt.subplots(1, figsize=(8,4))\n",
    "\n",
    "colors = plt.cm.hot_r(np.linspace(0.3, 0.8, len(gb_year)))\n",
    "\n",
    "# Plot 'co2' for each year\n",
    "for i, (year, data) in enumerate(gb_year):\n",
    "    ax.plot(data.index.day_of_year, data['co2'].values, color=colors[i])\n",
    "\n",
    "for y in [1974, 1984, 1994, 2004, 2014, 2023]:\n",
    "    this_year = gb_year.get_group(y)\n",
    "    ax.text(370, this_year['co2'][-1], f\"{y}\")\n",
    "\n",
    "ax.spines['top'].set_visible(False)\n",
    "ax.spines['right'].set_visible(False)\n"
   ]
  },
  {
   "cell_type": "code",
   "execution_count": null,
   "metadata": {},
   "outputs": [],
   "source": [
    "# %matplotlib widget\n",
    "\n",
    "fig, ax = plt.subplots(1, figsize=(8,4))\n",
    "\n",
    "colors = plt.cm.hot_r(np.linspace(0.3, 0.8, len(gb_year)))\n",
    "\n",
    "for i, (year, data) in enumerate(gb_year):\n",
    "    ax.plot(data.index.day_of_year, data['co2_detrended'], color=colors[i])\n",
    "\n",
    "gb_year['co2_detrended'].mean()\n",
    "\n",
    "ax.spines['top'].set_visible(False)\n",
    "ax.spines['right'].set_visible(False)\n"
   ]
  },
  {
   "cell_type": "code",
   "execution_count": null,
   "metadata": {},
   "outputs": [],
   "source": [
    "gb_year['co2_detrended'].mean()"
   ]
  },
  {
   "cell_type": "markdown",
   "metadata": {},
   "source": [
    "fill missing data. interpolate method: 'time'  \n",
    "[interpolation methods visualized](https://thepythonyouneed.com/how-to-interpolate-values-with-pandas/)"
   ]
  },
  {
   "cell_type": "code",
   "execution_count": null,
   "metadata": {},
   "outputs": [],
   "source": [
    "df['co2'] = (df['average'].resample(\"D\") #resample daily\n",
    "                          .interpolate(method='time') #interpolate by time\n",
    "            )\n",
    "df"
   ]
  },
  {
   "cell_type": "code",
   "execution_count": null,
   "metadata": {},
   "outputs": [],
   "source": [
    "# %matplotlib widget\n",
    "\n",
    "decomposed = decomposed_m\n",
    "\n",
    "fig, ax = plt.subplots(1, 2, figsize=(10,6))\n",
    "ax[0].plot(df['co2'], color=\"tab:blue\", label=\"observed\")\n",
    "ax[0].plot(decomposed.trend * decomposed.resid, color=\"tab:orange\", label=\"trend*resid\")\n",
    "ax[0].plot(decomposed.trend * decomposed.seasonal, color=\"tab:red\", label=\"trend*seasonal\")\n",
    "ax[0].plot(decomposed.trend, color=\"black\", label=\"trend\")\n",
    "ax[0].set(ylabel=\"CO$_2$ concentration (ppm)\",\n",
    "          title=\"Mauna Loa CO$_2$ concentration\")\n",
    "ax[0].legend(frameon=False)\n",
    "\n",
    "start = \"2000-01-01\"\n",
    "end = \"2003-01-01\"\n",
    "zoom = slice(start, end)\n",
    "ax[1].plot(df.loc[zoom, 'co2'], color=\"tab:blue\", label=\"observed\")\n",
    "ax[1].plot((decomposed.trend * decomposed.resid)[zoom], color=\"tab:orange\", label=\"trend*resid\")\n",
    "ax[1].plot((decomposed.trend * decomposed.seasonal)[zoom], color=\"tab:red\", label=\"trend*seasonal\")\n",
    "ax[1].plot(decomposed.trend[zoom], color=\"black\", label=\"trend\")\n",
    "date_form = DateFormatter(\"%Y\")\n",
    "ax[1].xaxis.set_major_formatter(date_form)\n",
    "ax[1].xaxis.set_major_locator(mdates.YearLocator(1))\n",
    "ax[1].set_title(\"Components, 2000--2003\");\n"
   ]
  }
 ],
 "metadata": {
  "language_info": {
   "name": "python"
  }
 },
 "nbformat": 4,
 "nbformat_minor": 2
}
